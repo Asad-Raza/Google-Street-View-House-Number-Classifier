import numpy as np
import scipy.io as sio
import matplotlib.pyplot as plt
#%matplotlib inline

import pandas as pd 
import os 
import math 

os.chdir('C:\\Users\Alaric\Documents\\University\STAT 441\DC2')
#svhn dataset 32x32x3x73257
image_ind = 10000
train_data = sio.loadmat('train.mat')
x_data = train_data['X']
y_data = train_data['y']

#show image
plt.imshow(x_data[:,:,:,image_ind])
print (y_data[image_ind])

#divide into train and test set
from sklearn.model_selection import train_test_split
X_train, X_test, y_train, y_test = train_test_split(x_data.T, y_data, test_size=0.35)
X_train = X_train.T
X_test = X_test.T